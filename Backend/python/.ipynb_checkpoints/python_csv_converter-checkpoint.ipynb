{
 "cells": [
  {
   "cell_type": "code",
   "execution_count": 42,
   "id": "3d8547f7-3319-4660-b904-2b728183a853",
   "metadata": {},
   "outputs": [],
   "source": [
    "from bs4 import BeautifulSoup\n",
    "import pandas as pd\n",
    "import os\n",
    "from IPython.display import display\n",
    "import ipywidgets as widgets"
   ]
  },
  {
   "cell_type": "code",
   "execution_count": 43,
   "id": "10f89278-0f49-46dc-b96f-c3b9db506c42",
   "metadata": {},
   "outputs": [],
   "source": [
    "pd.set_option('display.max_columns', None)  # None means unlimited\n",
    "pd.set_option('display.max_rows', None)  # Be cautious with this as very large DataFrames can be unwieldy\n",
    "pd.set_option('display.max_colwidth', None)  # Display full content of each column\n",
    "pd.set_option('display.width', None)  # Auto-detect the display width"
   ]
  },
  {
   "cell_type": "code",
   "execution_count": 45,
   "id": "32542531-b3bc-4b29-bc07-5edfd1ccda3d",
   "metadata": {},
   "outputs": [],
   "source": [
    "# Function to save DataFrame to CSV\n",
    "def save_table_to_csv(df, year, folder, filename):\n",
    "    directory = os.path.join(folder, str(year))\n",
    "    if not os.path.exists(directory):\n",
    "        os.makedirs(directory)\n",
    "    filepath = os.path.join(directory, filename + '.csv')\n",
    "    df.to_csv(filepath, index=False)"
   ]
  },
  {
   "cell_type": "code",
   "execution_count": 36,
   "id": "e6c3e759-4c18-421c-a610-924227ecbb6c",
   "metadata": {},
   "outputs": [],
   "source": [
    "def getListOfFileNames(folderPath):\n",
    "    return os.listdir(folderPath)\n",
    "\n",
    "def load_html_file(file_path):\n",
    "    with open(file_path, 'r', encoding='utf-8') as file:\n",
    "        return BeautifulSoup(file, 'html.parser')"
   ]
  },
  {
   "cell_type": "code",
   "execution_count": 49,
   "id": "2d83ee74-9e39-425b-89ca-02352496a400",
   "metadata": {},
   "outputs": [],
   "source": [
    "# Function to clean tables in HTML content\n",
    "def clean_tables(html_content):\n",
    "    cleaned_tables = []\n",
    "    \n",
    "    for table in html_content.find_all('table'):\n",
    "        valid_rows = [tr for tr in table.find_all('tr') if len(tr.find_all('td')) > 1]\n",
    "        new_table = soup.new_tag('table')\n",
    "        for tr in valid_rows:\n",
    "            new_table.append(tr)\n",
    "        cleaned_tables.append(new_table)\n",
    "    \n",
    "    return cleaned_tables"
   ]
  },
  {
   "cell_type": "code",
   "execution_count": 47,
   "id": "8f7cccd0-d97c-43a2-a679-ac47234785fa",
   "metadata": {},
   "outputs": [],
   "source": [
    "def process_table(table_html, year, folder):\n",
    "    # Convert table to DataFrame\n",
    "    df = pd.read_html(str(table_html), flavor='bs4')[0]\n",
    "    \n",
    "    # Display table in notebook\n",
    "    display(df)\n",
    "    \n",
    "    # Interactive widgets\n",
    "    save_widget = widgets.ToggleButtons(\n",
    "        options=['Yes', 'No'],\n",
    "        description='Save Table:',\n",
    "        disabled=False\n",
    "    )\n",
    "    file_name_widget = widgets.Text(\n",
    "        value='',\n",
    "        placeholder='Enter filename',\n",
    "        description='Filename:',\n",
    "        disabled=False\n",
    "    )\n",
    "    button = widgets.Button(description=\"Submit\")\n",
    "    \n",
    "    # UI layout\n",
    "    box = widgets.VBox([save_widget, file_name_widget, button])\n",
    "    display(box)\n",
    "    \n",
    "    def on_button_clicked(b):\n",
    "        # Check user decision and save if 'Yes'\n",
    "        if save_widget.value == 'Yes' and file_name_widget.value:\n",
    "            save_table_to_csv(df, year, folder, file_name_widget.value)\n",
    "            with output:\n",
    "                clear_output()\n",
    "                print(f\"Table saved as {file_name_widget.value}.csv\")\n",
    "        else:\n",
    "            with output:\n",
    "                clear_output()\n",
    "                print(\"Table not saved.\")\n",
    "    \n",
    "    button.on_click(on_button_clicked)\n",
    "    output = widgets.Output()\n",
    "    display(output)\n",
    "\n"
   ]
  },
  {
   "cell_type": "code",
   "execution_count": 40,
   "id": "8294ba8b-8e09-4fba-819c-8348a9245c8a",
   "metadata": {},
   "outputs": [],
   "source": [
    "year = 2022\n",
    "folderPath = f'../../HTML_files/year_{year}/'\n",
    "fileNames = getListOfFileNames(folderPath)"
   ]
  },
  {
   "cell_type": "code",
   "execution_count": 50,
   "id": "8bef0acf-e2ce-45e6-a45d-9d9539bf6a28",
   "metadata": {},
   "outputs": [
    {
     "name": "stdout",
     "output_type": "stream",
     "text": [
      "['GR200.html', 'Human_Resources.html', 'Finance.html', 'Completions.html', 'Academic_Libraries.html', 'Admissions_and_Test_Scores.html', '12-Month_Enrollment.html', 'Outcome_Measures.html', 'Student_Financial_Aid_and_Net_Price.html', 'Graduation_Rates.html', 'Fall_Enrollment.html', 'Institutional_Characteristics.html']\n"
     ]
    },
    {
     "ename": "NameError",
     "evalue": "name 'soup' is not defined",
     "output_type": "error",
     "traceback": [
      "\u001b[0;31m---------------------------------------------------------------------------\u001b[0m",
      "\u001b[0;31mNameError\u001b[0m                                 Traceback (most recent call last)",
      "Cell \u001b[0;32mIn[50], line 5\u001b[0m\n\u001b[1;32m      3\u001b[0m completePath \u001b[38;5;241m=\u001b[39m \u001b[38;5;124mf\u001b[39m\u001b[38;5;124m'\u001b[39m\u001b[38;5;124m../../HTML_files/year_\u001b[39m\u001b[38;5;132;01m{\u001b[39;00myear\u001b[38;5;132;01m}\u001b[39;00m\u001b[38;5;124m/\u001b[39m\u001b[38;5;132;01m{\u001b[39;00meach\u001b[38;5;132;01m}\u001b[39;00m\u001b[38;5;124m'\u001b[39m\n\u001b[1;32m      4\u001b[0m data \u001b[38;5;241m=\u001b[39m load_html_file(completePath)\n\u001b[0;32m----> 5\u001b[0m tables \u001b[38;5;241m=\u001b[39m \u001b[43mclean_tables\u001b[49m\u001b[43m(\u001b[49m\u001b[43mdata\u001b[49m\u001b[43m)\u001b[49m\n\u001b[1;32m      6\u001b[0m process_table(tables,year,each)\n",
      "Cell \u001b[0;32mIn[49], line 5\u001b[0m, in \u001b[0;36mclean_tables\u001b[0;34m(html_content)\u001b[0m\n\u001b[1;32m      2\u001b[0m \u001b[38;5;28;01mdef\u001b[39;00m \u001b[38;5;21mclean_tables\u001b[39m(html_content):\n\u001b[1;32m      3\u001b[0m     cleaned_tables \u001b[38;5;241m=\u001b[39m []\n\u001b[0;32m----> 5\u001b[0m     \u001b[38;5;28;01mfor\u001b[39;00m table \u001b[38;5;129;01min\u001b[39;00m \u001b[43msoup\u001b[49m\u001b[38;5;241m.\u001b[39mfind_all(\u001b[38;5;124m'\u001b[39m\u001b[38;5;124mtable\u001b[39m\u001b[38;5;124m'\u001b[39m):\n\u001b[1;32m      6\u001b[0m         valid_rows \u001b[38;5;241m=\u001b[39m [tr \u001b[38;5;28;01mfor\u001b[39;00m tr \u001b[38;5;129;01min\u001b[39;00m table\u001b[38;5;241m.\u001b[39mfind_all(\u001b[38;5;124m'\u001b[39m\u001b[38;5;124mtr\u001b[39m\u001b[38;5;124m'\u001b[39m) \u001b[38;5;28;01mif\u001b[39;00m \u001b[38;5;28mlen\u001b[39m(tr\u001b[38;5;241m.\u001b[39mfind_all(\u001b[38;5;124m'\u001b[39m\u001b[38;5;124mtd\u001b[39m\u001b[38;5;124m'\u001b[39m)) \u001b[38;5;241m>\u001b[39m \u001b[38;5;241m1\u001b[39m]\n\u001b[1;32m      7\u001b[0m         new_table \u001b[38;5;241m=\u001b[39m soup\u001b[38;5;241m.\u001b[39mnew_tag(\u001b[38;5;124m'\u001b[39m\u001b[38;5;124mtable\u001b[39m\u001b[38;5;124m'\u001b[39m)\n",
      "\u001b[0;31mNameError\u001b[0m: name 'soup' is not defined"
     ]
    }
   ],
   "source": [
    "print(fileNames)\n",
    "for each in fileNames:\n",
    "    completePath = f'../../HTML_files/year_{year}/{each}'\n",
    "    data = load_html_file(completePath)\n",
    "    tables = clean_tables(data)\n",
    "    process_table(tables,year,each)"
   ]
  },
  {
   "cell_type": "code",
   "execution_count": null,
   "id": "4b737e01-8a18-438c-bca5-b1aa6ea03eb0",
   "metadata": {},
   "outputs": [],
   "source": []
  }
 ],
 "metadata": {
  "kernelspec": {
   "display_name": "Python 3 (ipykernel)",
   "language": "python",
   "name": "python3"
  },
  "language_info": {
   "codemirror_mode": {
    "name": "ipython",
    "version": 3
   },
   "file_extension": ".py",
   "mimetype": "text/x-python",
   "name": "python",
   "nbconvert_exporter": "python",
   "pygments_lexer": "ipython3",
   "version": "3.12.2"
  }
 },
 "nbformat": 4,
 "nbformat_minor": 5
}
