{
 "cells": [
  {
   "cell_type": "code",
   "execution_count": 1,
   "id": "177303a6-e62d-4814-9453-1afd282292f1",
   "metadata": {},
   "outputs": [],
   "source": [
    "import os\n",
    "import pandas as pd"
   ]
  },
  {
   "cell_type": "code",
   "execution_count": null,
   "id": "ec636a18-3e5e-4929-9a23-dd256fed3d4c",
   "metadata": {},
   "outputs": [],
   "source": [
    "# Set display options to show more rows, columns, and width of the cell content\n",
    "pd.set_option('display.max_rows', 10)  # Adjust the number of rows you want to see\n",
    "pd.set_option('display.max_columns', None)  # This will ensure all columns are shown\n",
    "pd.set_option('display.max_colwidth', 100)  # This will ensure 50 characters of each cell are shown\n",
    "pd.set_option('display.width', 1000)  # Adjust the width to fit your screen"
   ]
  },
  {
   "cell_type": "code",
   "execution_count": 10,
   "id": "ccf30683-9d81-4068-bfb8-82a261b34f79",
   "metadata": {},
   "outputs": [],
   "source": [
    "def truncate_string(s, length=100):\n",
    "    return s if len(s) <= length else s[:17] + '...'"
   ]
  },
  {
   "cell_type": "code",
   "execution_count": 17,
   "id": "428a1f60-3a3c-422d-8768-203ba80268ba",
   "metadata": {},
   "outputs": [],
   "source": [
    "def preview_and_clean_files(directory_path):\n",
    "    for root, dirs, files in os.walk(directory_path):\n",
    "        for file in files:\n",
    "            if file.endswith('.csv'):\n",
    "                file_path = os.path.join(root, file)\n",
    "                print(f\"Previewing first 10 rows of '{file_path}':\\n\")\n",
    "                \n",
    "                # Read the first 10 rows\n",
    "                df_preview = pd.read_csv(file_path, nrows=10)\n",
    "                \n",
    "                # Truncate the columns if they are too long\n",
    "                df_preview_truncated = df_preview.applymap(lambda x: truncate_string(str(x), 100) if isinstance(x, str) else x)\n",
    "                \n",
    "                # Display the truncated DataFrame\n",
    "                with pd.option_context('display.max_rows', None, 'display.max_columns', None):\n",
    "                    print(df_preview_truncated)\n",
    "                \n",
    "                # Ask the user for the number of rows to skip\n",
    "                num_rows_to_skip = int(input(\"\\nEnter the number of initial rows to skip for this file: \"))\n",
    "                \n",
    "                # Read the file again, skipping the specified number of rows and any additional rows as necessary\n",
    "                df_clean = pd.read_csv(file_path, skiprows=num_rows_to_skip)\n",
    "                \n",
    "                # Save the cleaned file\n",
    "                clean_file_path = os.path.join(root, f\"cleaned_{file}\")\n",
    "                df_clean.to_csv(clean_file_path, index=False)\n",
    "                \n",
    "                print(f\"Saved cleaned file to '{clean_file_path}'\\n\")"
   ]
  },
  {
   "cell_type": "code",
   "execution_count": 18,
   "id": "a6fa5e84-81ad-480f-aaee-b0412a37ca49",
   "metadata": {},
   "outputs": [],
   "source": [
    "dir_path = \"../CSV_data/2001/\"\n",
    "items = (\"Student_Financial_Aid_and_Net_Price\", \"Finance\", \"Completions\", \"Institutional_Characteristics\")"
   ]
  },
  {
   "cell_type": "code",
   "execution_count": 19,
   "id": "b4209628-5c8a-4c3b-bccb-3e84e0d4f685",
   "metadata": {},
   "outputs": [
    {
     "name": "stderr",
     "output_type": "stream",
     "text": [
      "/var/folders/q3/4pxd96fs1wz9p3thd1ln5_c40000gn/T/ipykernel_96505/373770317.py:12: FutureWarning: DataFrame.applymap has been deprecated. Use DataFrame.map instead.\n",
      "  df_preview_truncated = df_preview.applymap(lambda x: truncate_string(str(x), 100) if isinstance(x, str) else x)\n"
     ]
    },
    {
     "name": "stdout",
     "output_type": "stream",
     "text": [
      "../CSV_data/2001/Student_Financial_Aid_and_Net_Price\n",
      "Previewing first 10 rows of '../CSV_data/2001/Student_Financial_Aid_and_Net_Price/aid.csv':\n",
      "\n",
      "                                                   0  \\\n",
      "0                               Student financial...   \n",
      "1                               Student financial...   \n",
      "2                                                NaN   \n",
      "3                                                NaN   \n",
      "4  Fall 2000 cohort information provided from the...   \n",
      "5        Total students in cohort (as defined above)   \n",
      "6    Number in cohort who received any financial aid   \n",
      "7                               Report the number...   \n",
      "8                               For each type of ...   \n",
      "9  Types of aid (report only those amounts that p...   \n",
      "\n",
      "                                                   1  \\\n",
      "0                               Student financial...   \n",
      "1                               Student financial...   \n",
      "2                                                NaN   \n",
      "3                                                NaN   \n",
      "4  Fall 2000 cohort information provided from the...   \n",
      "5        Total students in cohort (as defined above)   \n",
      "6    Number in cohort who received any financial aid   \n",
      "7                               Report the number...   \n",
      "8                               For each type of ...   \n",
      "9                   Number of students receiving aid   \n",
      "\n",
      "                                                   2  \\\n",
      "0                                                NaN   \n",
      "1                               Student financial...   \n",
      "2                                                NaN   \n",
      "3                                                NaN   \n",
      "4  Fall 2000 cohort information provided from the...   \n",
      "5        Total students in cohort (as defined above)   \n",
      "6    Number in cohort who received any financial aid   \n",
      "7                               Report the number...   \n",
      "8                               For each type of ...   \n",
      "9            Percentage of cohort receiving aid (CV)   \n",
      "\n",
      "                                                   3  \n",
      "0                                                NaN  \n",
      "1                               Student financial...  \n",
      "2                                                NaN  \n",
      "3                                                NaN  \n",
      "4  Fall 2000 cohort information provided from the...  \n",
      "5                                                248  \n",
      "6                                                223  \n",
      "7                               Report the number...  \n",
      "8                               For each type of ...  \n",
      "9                Average amount of aid they received  \n"
     ]
    },
    {
     "ename": "KeyboardInterrupt",
     "evalue": "Interrupted by user",
     "output_type": "error",
     "traceback": [
      "\u001b[0;31m---------------------------------------------------------------------------\u001b[0m",
      "\u001b[0;31mKeyboardInterrupt\u001b[0m                         Traceback (most recent call last)",
      "Cell \u001b[0;32mIn[19], line 3\u001b[0m\n\u001b[1;32m      1\u001b[0m \u001b[38;5;28;01mfor\u001b[39;00m each \u001b[38;5;129;01min\u001b[39;00m items:\n\u001b[1;32m      2\u001b[0m     \u001b[38;5;28mprint\u001b[39m(\u001b[38;5;124mf\u001b[39m\u001b[38;5;124m\"\u001b[39m\u001b[38;5;132;01m{\u001b[39;00mdir_path\u001b[38;5;132;01m}\u001b[39;00m\u001b[38;5;132;01m{\u001b[39;00meach\u001b[38;5;132;01m}\u001b[39;00m\u001b[38;5;124m\"\u001b[39m)\n\u001b[0;32m----> 3\u001b[0m     \u001b[43mpreview_and_clean_files\u001b[49m\u001b[43m(\u001b[49m\u001b[38;5;124;43mf\u001b[39;49m\u001b[38;5;124;43m\"\u001b[39;49m\u001b[38;5;132;43;01m{\u001b[39;49;00m\u001b[43mdir_path\u001b[49m\u001b[38;5;132;43;01m}\u001b[39;49;00m\u001b[38;5;132;43;01m{\u001b[39;49;00m\u001b[43meach\u001b[49m\u001b[38;5;132;43;01m}\u001b[39;49;00m\u001b[38;5;124;43m\"\u001b[39;49m\u001b[43m)\u001b[49m\n",
      "Cell \u001b[0;32mIn[17], line 19\u001b[0m, in \u001b[0;36mpreview_and_clean_files\u001b[0;34m(directory_path)\u001b[0m\n\u001b[1;32m     16\u001b[0m     \u001b[38;5;28mprint\u001b[39m(df_preview_truncated)\n\u001b[1;32m     18\u001b[0m \u001b[38;5;66;03m# Ask the user for the number of rows to skip\u001b[39;00m\n\u001b[0;32m---> 19\u001b[0m num_rows_to_skip \u001b[38;5;241m=\u001b[39m \u001b[38;5;28mint\u001b[39m(\u001b[38;5;28;43minput\u001b[39;49m\u001b[43m(\u001b[49m\u001b[38;5;124;43m\"\u001b[39;49m\u001b[38;5;130;43;01m\\n\u001b[39;49;00m\u001b[38;5;124;43mEnter the number of initial rows to skip for this file: \u001b[39;49m\u001b[38;5;124;43m\"\u001b[39;49m\u001b[43m)\u001b[49m)\n\u001b[1;32m     21\u001b[0m \u001b[38;5;66;03m# Read the file again, skipping the specified number of rows and any additional rows as necessary\u001b[39;00m\n\u001b[1;32m     22\u001b[0m df_clean \u001b[38;5;241m=\u001b[39m pd\u001b[38;5;241m.\u001b[39mread_csv(file_path, skiprows\u001b[38;5;241m=\u001b[39mnum_rows_to_skip)\n",
      "File \u001b[0;32m/Library/Frameworks/Python.framework/Versions/3.12/lib/python3.12/site-packages/ipykernel/kernelbase.py:1282\u001b[0m, in \u001b[0;36mKernel.raw_input\u001b[0;34m(self, prompt)\u001b[0m\n\u001b[1;32m   1280\u001b[0m     msg \u001b[38;5;241m=\u001b[39m \u001b[38;5;124m\"\u001b[39m\u001b[38;5;124mraw_input was called, but this frontend does not support input requests.\u001b[39m\u001b[38;5;124m\"\u001b[39m\n\u001b[1;32m   1281\u001b[0m     \u001b[38;5;28;01mraise\u001b[39;00m StdinNotImplementedError(msg)\n\u001b[0;32m-> 1282\u001b[0m \u001b[38;5;28;01mreturn\u001b[39;00m \u001b[38;5;28;43mself\u001b[39;49m\u001b[38;5;241;43m.\u001b[39;49m\u001b[43m_input_request\u001b[49m\u001b[43m(\u001b[49m\n\u001b[1;32m   1283\u001b[0m \u001b[43m    \u001b[49m\u001b[38;5;28;43mstr\u001b[39;49m\u001b[43m(\u001b[49m\u001b[43mprompt\u001b[49m\u001b[43m)\u001b[49m\u001b[43m,\u001b[49m\n\u001b[1;32m   1284\u001b[0m \u001b[43m    \u001b[49m\u001b[38;5;28;43mself\u001b[39;49m\u001b[38;5;241;43m.\u001b[39;49m\u001b[43m_parent_ident\u001b[49m\u001b[43m[\u001b[49m\u001b[38;5;124;43m\"\u001b[39;49m\u001b[38;5;124;43mshell\u001b[39;49m\u001b[38;5;124;43m\"\u001b[39;49m\u001b[43m]\u001b[49m\u001b[43m,\u001b[49m\n\u001b[1;32m   1285\u001b[0m \u001b[43m    \u001b[49m\u001b[38;5;28;43mself\u001b[39;49m\u001b[38;5;241;43m.\u001b[39;49m\u001b[43mget_parent\u001b[49m\u001b[43m(\u001b[49m\u001b[38;5;124;43m\"\u001b[39;49m\u001b[38;5;124;43mshell\u001b[39;49m\u001b[38;5;124;43m\"\u001b[39;49m\u001b[43m)\u001b[49m\u001b[43m,\u001b[49m\n\u001b[1;32m   1286\u001b[0m \u001b[43m    \u001b[49m\u001b[43mpassword\u001b[49m\u001b[38;5;241;43m=\u001b[39;49m\u001b[38;5;28;43;01mFalse\u001b[39;49;00m\u001b[43m,\u001b[49m\n\u001b[1;32m   1287\u001b[0m \u001b[43m\u001b[49m\u001b[43m)\u001b[49m\n",
      "File \u001b[0;32m/Library/Frameworks/Python.framework/Versions/3.12/lib/python3.12/site-packages/ipykernel/kernelbase.py:1325\u001b[0m, in \u001b[0;36mKernel._input_request\u001b[0;34m(self, prompt, ident, parent, password)\u001b[0m\n\u001b[1;32m   1322\u001b[0m \u001b[38;5;28;01mexcept\u001b[39;00m \u001b[38;5;167;01mKeyboardInterrupt\u001b[39;00m:\n\u001b[1;32m   1323\u001b[0m     \u001b[38;5;66;03m# re-raise KeyboardInterrupt, to truncate traceback\u001b[39;00m\n\u001b[1;32m   1324\u001b[0m     msg \u001b[38;5;241m=\u001b[39m \u001b[38;5;124m\"\u001b[39m\u001b[38;5;124mInterrupted by user\u001b[39m\u001b[38;5;124m\"\u001b[39m\n\u001b[0;32m-> 1325\u001b[0m     \u001b[38;5;28;01mraise\u001b[39;00m \u001b[38;5;167;01mKeyboardInterrupt\u001b[39;00m(msg) \u001b[38;5;28;01mfrom\u001b[39;00m \u001b[38;5;28;01mNone\u001b[39;00m\n\u001b[1;32m   1326\u001b[0m \u001b[38;5;28;01mexcept\u001b[39;00m \u001b[38;5;167;01mException\u001b[39;00m:\n\u001b[1;32m   1327\u001b[0m     \u001b[38;5;28mself\u001b[39m\u001b[38;5;241m.\u001b[39mlog\u001b[38;5;241m.\u001b[39mwarning(\u001b[38;5;124m\"\u001b[39m\u001b[38;5;124mInvalid Message:\u001b[39m\u001b[38;5;124m\"\u001b[39m, exc_info\u001b[38;5;241m=\u001b[39m\u001b[38;5;28;01mTrue\u001b[39;00m)\n",
      "\u001b[0;31mKeyboardInterrupt\u001b[0m: Interrupted by user"
     ]
    }
   ],
   "source": [
    "for each in items:\n",
    "    print(f\"{dir_path}{each}\")\n",
    "    preview_and_clean_files(f\"{dir_path}{each}\")"
   ]
  },
  {
   "cell_type": "code",
   "execution_count": null,
   "id": "43ae330a-e897-47b2-bd0c-018501255c40",
   "metadata": {},
   "outputs": [],
   "source": []
  },
  {
   "cell_type": "code",
   "execution_count": null,
   "id": "d8d7c7b5-29cf-4d51-9e0b-5f00fc71a6f5",
   "metadata": {},
   "outputs": [],
   "source": []
  }
 ],
 "metadata": {
  "kernelspec": {
   "display_name": "Python 3 (ipykernel)",
   "language": "python",
   "name": "python3"
  },
  "language_info": {
   "codemirror_mode": {
    "name": "ipython",
    "version": 3
   },
   "file_extension": ".py",
   "mimetype": "text/x-python",
   "name": "python",
   "nbconvert_exporter": "python",
   "pygments_lexer": "ipython3",
   "version": "3.12.2"
  }
 },
 "nbformat": 4,
 "nbformat_minor": 5
}
